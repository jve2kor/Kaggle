{
 "cells": [
  {
   "cell_type": "code",
   "execution_count": 32,
   "metadata": {
    "collapsed": false
   },
   "outputs": [],
   "source": [
    "import cv2\n",
    "import sys\n",
    "import numpy as np\n",
    "\n",
    "#from keras.models import load_model\n",
    "#model=load_model(\"/Users/jvr605/Downloads/FaceDetect_master/Train_keras.mod\")\n",
    "\n",
    "emotions = ['Angry','Disgust', 'Fear', 'Happy','Sad','Surprise','Neutral']\n",
    "# Get user supplied values\n",
    "#imagePath = sys.argv[1]\n",
    "imagePath = r\"C:\\Users\\jambuvr\\Documents\\kaggle\\facial_Recognition\\faces2.jpg\"\n",
    "cascPath = \"haarcascade_frontalface_default.xml\"\n",
    "\n",
    "# Create the haar cascade\n",
    "faceCascade = cv2.CascadeClassifier(cascPath)\n",
    "\n",
    "# Read the image\n",
    "image = cv2.imread(imagePath)\n",
    "image = cv2.resize(image, (0,0), fx=0.5, fy=0.5) \n",
    "gray = cv2.cvtColor(image, cv2.COLOR_BGR2GRAY)\n",
    "\n"
   ]
  },
  {
   "cell_type": "code",
   "execution_count": 33,
   "metadata": {
    "collapsed": false
   },
   "outputs": [
    {
     "name": "stdout",
     "output_type": "stream",
     "text": [
      "Found 2 faces!\n"
     ]
    },
    {
     "data": {
      "text/plain": [
       "113"
      ]
     },
     "execution_count": 33,
     "metadata": {},
     "output_type": "execute_result"
    }
   ],
   "source": [
    "# Detect faces in the image\n",
    "faces = faceCascade.detectMultiScale(\n",
    "                                     gray,\n",
    "                                     scaleFactor=1.1,\n",
    "                                     minNeighbors=5,\n",
    "                                     minSize=(30, 30),\n",
    "                                     flags = cv2.cv.CV_HAAR_SCALE_IMAGE\n",
    "                                     )\n",
    "\n",
    "print(\"Found {0} faces!\".format(len(faces)))\n",
    "\n",
    "# Draw a rectangle around the faces\n",
    "for i,(x, y, w, h)  in enumerate(faces):\n",
    "    #cv2.rectangle(image, (x, y), (x+w, y+h), (0, 255, 0), 2)\n",
    "    sub_face = gray[y:y+h, x:x+w]\n",
    "    r = 48.0 / sub_face.shape[1]\n",
    "    dim = (48, int(sub_face.shape[0] * r))\n",
    "    # perform the actual resizing of the image and show it\n",
    "    resized = cv2.resize(sub_face, dim, interpolation = cv2.INTER_AREA)\n",
    "    temp =resized\n",
    "    #resized.reshape\n",
    "    #resized = np.array([resized])\n",
    "    #resized =resized.reshape(-1,1,48,48)\n",
    "    #prediction_result = np.argmax(model.predict(resized))\n",
    "\n",
    "    #print emotions[prediction_result]\n",
    "\n",
    "    #print resized.shape\n",
    "    cv2.imwrite(\"face-\" + str(i)+\".jpg\",sub_face)\n",
    "\n",
    "\n",
    "\n",
    "cv2.imshow(\"Faces found\", temp)\n",
    "cv2.waitKey(0)"
   ]
  },
  {
   "cell_type": "code",
   "execution_count": null,
   "metadata": {
    "collapsed": true
   },
   "outputs": [],
   "source": []
  }
 ],
 "metadata": {
  "anaconda-cloud": {},
  "kernelspec": {
   "display_name": "Python [conda root]",
   "language": "python",
   "name": "conda-root-py"
  },
  "language_info": {
   "codemirror_mode": {
    "name": "ipython",
    "version": 2
   },
   "file_extension": ".py",
   "mimetype": "text/x-python",
   "name": "python",
   "nbconvert_exporter": "python",
   "pygments_lexer": "ipython2",
   "version": "2.7.12"
  }
 },
 "nbformat": 4,
 "nbformat_minor": 1
}
