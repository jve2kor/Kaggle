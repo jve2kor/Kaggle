{
 "cells": [
  {
   "cell_type": "code",
   "execution_count": 3,
   "metadata": {
    "collapsed": false
   },
   "outputs": [
    {
     "name": "stderr",
     "output_type": "stream",
     "text": [
      "Using Theano backend.\n"
     ]
    }
   ],
   "source": [
    "##Importing the required libraries\n",
    "import pandas as pd\n",
    "import numpy as np\n",
    "from keras.utils.np_utils import to_categorical\n",
    "from keras import backend as K\n",
    "from keras import optimizers\n",
    "K.set_image_dim_ordering('th') #input shape: (channels, height, width)\n",
    "%matplotlib inline\n",
    "import matplotlib.pyplot as plt\n",
    "import PIL"
   ]
  },
  {
   "cell_type": "code",
   "execution_count": 4,
   "metadata": {
    "collapsed": false
   },
   "outputs": [],
   "source": [
    "#Preprocessing the excel sheet\n",
    "train_df = pd.read_csv(r\"C:\\Users\\jambuvr\\Documents\\kaggle\\facial_Recognition\\fer2013\\fer2013_Train.csv\")\n",
    "valid_df = pd.read_csv(r\"C:\\Users\\jambuvr\\Documents\\kaggle\\facial_Recognition\\fer2013\\test.csv\")\n",
    "Y_train = train_df['emotion'].values\n",
    "train_df=train_df.drop(['emotion'], axis=1)\n",
    "#train_df.drop(train_df.index[0], inplace=True)\n",
    "\n",
    "train_df.to_csv(r\"C:\\Users\\jambuvr\\Documents\\kaggle\\facial_Recognition\\fer2013\\train_mody_pixels.csv\",header=None,index=False)\n",
    "valid_df.to_csv(r\"C:\\Users\\jambuvr\\Documents\\kaggle\\facial_Recognition\\fer2013\\test_mody_pixels.csv\",header=None,index=False)"
   ]
  },
  {
   "cell_type": "code",
   "execution_count": 5,
   "metadata": {
    "collapsed": false
   },
   "outputs": [
    {
     "data": {
      "text/html": [
       "<div>\n",
       "<table border=\"1\" class=\"dataframe\">\n",
       "  <thead>\n",
       "    <tr style=\"text-align: right;\">\n",
       "      <th></th>\n",
       "      <th>0</th>\n",
       "      <th>1</th>\n",
       "      <th>2</th>\n",
       "      <th>3</th>\n",
       "      <th>4</th>\n",
       "      <th>5</th>\n",
       "      <th>6</th>\n",
       "      <th>7</th>\n",
       "      <th>8</th>\n",
       "      <th>9</th>\n",
       "      <th>...</th>\n",
       "      <th>2294</th>\n",
       "      <th>2295</th>\n",
       "      <th>2296</th>\n",
       "      <th>2297</th>\n",
       "      <th>2298</th>\n",
       "      <th>2299</th>\n",
       "      <th>2300</th>\n",
       "      <th>2301</th>\n",
       "      <th>2302</th>\n",
       "      <th>2303</th>\n",
       "    </tr>\n",
       "  </thead>\n",
       "  <tbody>\n",
       "    <tr>\n",
       "      <th>0</th>\n",
       "      <td>151</td>\n",
       "      <td>151</td>\n",
       "      <td>151</td>\n",
       "      <td>144</td>\n",
       "      <td>165</td>\n",
       "      <td>165</td>\n",
       "      <td>158</td>\n",
       "      <td>158</td>\n",
       "      <td>172</td>\n",
       "      <td>179</td>\n",
       "      <td>...</td>\n",
       "      <td>227</td>\n",
       "      <td>227</td>\n",
       "      <td>227</td>\n",
       "      <td>241</td>\n",
       "      <td>248</td>\n",
       "      <td>248</td>\n",
       "      <td>255</td>\n",
       "      <td>241</td>\n",
       "      <td>234</td>\n",
       "      <td>227</td>\n",
       "    </tr>\n",
       "    <tr>\n",
       "      <th>1</th>\n",
       "      <td>86</td>\n",
       "      <td>81</td>\n",
       "      <td>75</td>\n",
       "      <td>66</td>\n",
       "      <td>60</td>\n",
       "      <td>53</td>\n",
       "      <td>57</td>\n",
       "      <td>60</td>\n",
       "      <td>49</td>\n",
       "      <td>46</td>\n",
       "      <td>...</td>\n",
       "      <td>31</td>\n",
       "      <td>20</td>\n",
       "      <td>33</td>\n",
       "      <td>44</td>\n",
       "      <td>49</td>\n",
       "      <td>64</td>\n",
       "      <td>48</td>\n",
       "      <td>40</td>\n",
       "      <td>53</td>\n",
       "      <td>55</td>\n",
       "    </tr>\n",
       "    <tr>\n",
       "      <th>2</th>\n",
       "      <td>37</td>\n",
       "      <td>60</td>\n",
       "      <td>83</td>\n",
       "      <td>92</td>\n",
       "      <td>100</td>\n",
       "      <td>106</td>\n",
       "      <td>111</td>\n",
       "      <td>104</td>\n",
       "      <td>99</td>\n",
       "      <td>92</td>\n",
       "      <td>...</td>\n",
       "      <td>92</td>\n",
       "      <td>72</td>\n",
       "      <td>38</td>\n",
       "      <td>8</td>\n",
       "      <td>1</td>\n",
       "      <td>1</td>\n",
       "      <td>0</td>\n",
       "      <td>1</td>\n",
       "      <td>5</td>\n",
       "      <td>7</td>\n",
       "    </tr>\n",
       "    <tr>\n",
       "      <th>3</th>\n",
       "      <td>116</td>\n",
       "      <td>110</td>\n",
       "      <td>109</td>\n",
       "      <td>109</td>\n",
       "      <td>103</td>\n",
       "      <td>97</td>\n",
       "      <td>92</td>\n",
       "      <td>78</td>\n",
       "      <td>74</td>\n",
       "      <td>77</td>\n",
       "      <td>...</td>\n",
       "      <td>70</td>\n",
       "      <td>84</td>\n",
       "      <td>85</td>\n",
       "      <td>88</td>\n",
       "      <td>83</td>\n",
       "      <td>70</td>\n",
       "      <td>73</td>\n",
       "      <td>63</td>\n",
       "      <td>59</td>\n",
       "      <td>58</td>\n",
       "    </tr>\n",
       "    <tr>\n",
       "      <th>4</th>\n",
       "      <td>101</td>\n",
       "      <td>114</td>\n",
       "      <td>119</td>\n",
       "      <td>117</td>\n",
       "      <td>117</td>\n",
       "      <td>114</td>\n",
       "      <td>111</td>\n",
       "      <td>109</td>\n",
       "      <td>111</td>\n",
       "      <td>111</td>\n",
       "      <td>...</td>\n",
       "      <td>67</td>\n",
       "      <td>70</td>\n",
       "      <td>62</td>\n",
       "      <td>62</td>\n",
       "      <td>62</td>\n",
       "      <td>75</td>\n",
       "      <td>109</td>\n",
       "      <td>179</td>\n",
       "      <td>187</td>\n",
       "      <td>179</td>\n",
       "    </tr>\n",
       "  </tbody>\n",
       "</table>\n",
       "<p>5 rows × 2304 columns</p>\n",
       "</div>"
      ],
      "text/plain": [
       "   0     1     2     3     4     5     6     7     8     9     ...   2294  \\\n",
       "0   151   151   151   144   165   165   158   158   172   179  ...    227   \n",
       "1    86    81    75    66    60    53    57    60    49    46  ...     31   \n",
       "2    37    60    83    92   100   106   111   104    99    92  ...     92   \n",
       "3   116   110   109   109   103    97    92    78    74    77  ...     70   \n",
       "4   101   114   119   117   117   114   111   109   111   111  ...     67   \n",
       "\n",
       "   2295  2296  2297  2298  2299  2300  2301  2302  2303  \n",
       "0   227   227   241   248   248   255   241   234   227  \n",
       "1    20    33    44    49    64    48    40    53    55  \n",
       "2    72    38     8     1     1     0     1     5     7  \n",
       "3    84    85    88    83    70    73    63    59    58  \n",
       "4    70    62    62    62    75   109   179   187   179  \n",
       "\n",
       "[5 rows x 2304 columns]"
      ]
     },
     "execution_count": 5,
     "metadata": {},
     "output_type": "execute_result"
    }
   ],
   "source": [
    "train_df = pd.read_csv(r\"C:\\Users\\jambuvr\\Documents\\kaggle\\facial_Recognition\\fer2013\\train_mody_pixels.csv\",index_col=None,delim_whitespace=True,header=None)\n",
    "valid_df = pd.read_csv(r\"C:\\Users\\jambuvr\\Documents\\kaggle\\facial_Recognition\\fer2013\\test_mody_pixels.csv\",index_col=None,delim_whitespace=True,header=None)\n",
    "\n",
    "valid_df.head()"
   ]
  },
  {
   "cell_type": "code",
   "execution_count": 6,
   "metadata": {
    "collapsed": false
   },
   "outputs": [
    {
     "data": {
      "text/plain": [
       "array([0, 0, 2, ..., 4, 0, 4], dtype=int64)"
      ]
     },
     "execution_count": 6,
     "metadata": {},
     "output_type": "execute_result"
    }
   ],
   "source": [
    "Y_train"
   ]
  },
  {
   "cell_type": "code",
   "execution_count": 7,
   "metadata": {
    "collapsed": false
   },
   "outputs": [],
   "source": [
    "#converting the 1D array into 2D array  to represent an image .and plotting it\n",
    "\n",
    "x_train = train_df.values.astype('float64')\n",
    "#Y_train = train_df['label'].values\n",
    "\n",
    "x_valid = valid_df.values.astype('float64')"
   ]
  },
  {
   "cell_type": "code",
   "execution_count": 8,
   "metadata": {
    "collapsed": false
   },
   "outputs": [
    {
     "name": "stdout",
     "output_type": "stream",
     "text": [
      "(1312L, 2304L)\n",
      "1312\n"
     ]
    }
   ],
   "source": [
    "img_width, img_height = 48, 48\n",
    "n_train = x_train.shape[0]\n",
    "n_valid = x_valid.shape[0]\n",
    "\n",
    "n_classes = 7 \n",
    "print x_valid.shape\n",
    "print n_valid\n"
   ]
  },
  {
   "cell_type": "code",
   "execution_count": 10,
   "metadata": {
    "collapsed": false
   },
   "outputs": [],
   "source": [
    "x_train = x_train.reshape(n_train,1,img_width,img_height)\n",
    "x_valid = x_valid.reshape(n_valid,1,img_width,img_height)\n",
    "\n",
    "x_train = x_train/255 #normalize from [0,255] to [0,1]\n",
    "x_valid = x_valid/255 \n",
    "\n",
    "y_train = to_categorical(Y_train)"
   ]
  },
  {
   "cell_type": "code",
   "execution_count": 11,
   "metadata": {
    "collapsed": false
   },
   "outputs": [
    {
     "data": {
      "text/plain": [
       "array([[ 1.,  0.,  0., ...,  0.,  0.,  0.],\n",
       "       [ 1.,  0.,  0., ...,  0.,  0.,  0.],\n",
       "       [ 0.,  0.,  1., ...,  0.,  0.,  0.],\n",
       "       ..., \n",
       "       [ 0.,  0.,  0., ...,  1.,  0.,  0.],\n",
       "       [ 1.,  0.,  0., ...,  0.,  0.,  0.],\n",
       "       [ 0.,  0.,  0., ...,  1.,  0.,  0.]])"
      ]
     },
     "execution_count": 11,
     "metadata": {},
     "output_type": "execute_result"
    }
   ],
   "source": [
    "y_train"
   ]
  },
  {
   "cell_type": "code",
   "execution_count": 28,
   "metadata": {
    "collapsed": false
   },
   "outputs": [
    {
     "data": {
      "image/png": "[encoded data removed]",
      "text/plain": [
       "<matplotlib.figure.Figure at 0xcbcbf390>"
      ]
     },
     "metadata": {},
     "output_type": "display_data"
    }
   ],
   "source": [
    "imgplot = plt.imshow((x_train[90,0,:,:,]),cmap='gray')"
   ]
  },
  {
   "cell_type": "code",
   "execution_count": 17,
   "metadata": {
    "collapsed": true
   },
   "outputs": [],
   "source": [
    "from keras.models import Sequential\n",
    "from keras.layers.convolutional import *\n",
    "from keras.layers.core import Dropout, Dense, Flatten, Activation\n",
    "from keras.preprocessing.image import ImageDataGenerator\n"
   ]
  },
  {
   "cell_type": "code",
   "execution_count": 18,
   "metadata": {
    "collapsed": true
   },
   "outputs": [],
   "source": [
    "n_filters = 32\n",
    "filter_size1 = 3\n",
    "filter_size2 = 2\n",
    "pool_size1 = 2\n",
    "pool_size2 = 1\n",
    "n_dense = 64\n",
    "opt = optimizers.adagrad(lr=0.01)"
   ]
  },
  {
   "cell_type": "code",
   "execution_count": 19,
   "metadata": {
    "collapsed": false
   },
   "outputs": [
    {
     "name": "stderr",
     "output_type": "stream",
     "text": [
      "C:\\Users\\jambuvr\\AppData\\Local\\Continuum\\Anaconda2\\lib\\site-packages\\ipykernel\\__main__.py:3: UserWarning: Update your `Conv2D` call to the Keras 2 API: `Conv2D(32, (3, 3), padding=\"valid\", activation=\"relu\", batch_input_shape=(None, 1, ...)`\n",
      "  app.launch_new_instance()\n",
      "C:\\Users\\jambuvr\\AppData\\Local\\Continuum\\Anaconda2\\lib\\site-packages\\ipykernel\\__main__.py:4: UserWarning: Update your `Conv2D` call to the Keras 2 API: `Conv2D(32, (3, 3), padding=\"valid\", activation=\"relu\")`\n",
      "C:\\Users\\jambuvr\\AppData\\Local\\Continuum\\Anaconda2\\lib\\site-packages\\ipykernel\\__main__.py:8: UserWarning: Update your `Conv2D` call to the Keras 2 API: `Conv2D(32, (3, 3), padding=\"valid\", activation=\"relu\")`\n"
     ]
    }
   ],
   "source": [
    "model = Sequential()\n",
    "\n",
    "model.add(Convolution2D(n_filters, filter_size1, filter_size1, batch_input_shape=(None, 1, img_width, img_height), activation='relu', border_mode='valid'))\n",
    "model.add(Convolution2D(n_filters, filter_size1, filter_size1, activation='relu', border_mode='valid'))\n",
    "\n",
    "model.add(MaxPooling2D(pool_size=(pool_size1, pool_size1)))\n",
    "\n",
    "model.add(Convolution2D(n_filters, filter_size1, filter_size1, activation='relu', border_mode='valid'))\n",
    "\n",
    "model.add(MaxPooling2D(pool_size=(pool_size2, pool_size2)))\n",
    "\n",
    "\n",
    "model.add(Dropout(0.25))\n",
    "\n",
    "model.add(Flatten())\n",
    "\n",
    "model.add(Dense(n_dense))\n",
    "\n",
    "model.add(Activation('relu'))\n",
    "\n",
    "\n",
    "model.add(Dropout(0.5))\n",
    "\n",
    "\n",
    "model.add(Dense(n_classes))\n",
    "\n",
    "model.add(Activation('softmax'))\n",
    "\n",
    "model.compile(optimizer='adam',\n",
    "              loss='categorical_crossentropy',\n",
    "              metrics=['accuracy'])"
   ]
  },
  {
   "cell_type": "code",
   "execution_count": null,
   "metadata": {
    "collapsed": false
   },
   "outputs": [
    {
     "name": "stdout",
     "output_type": "stream",
     "text": [
      "Train on 20096 samples, validate on 8613 samples\n",
      "Epoch 1/6\n"
     ]
    }
   ],
   "source": [
    "batch_size = 32\n",
    "n_epochs = 6\n",
    "\n",
    "model.fit(x_train,\n",
    "          y_train,\n",
    "          batch_size=batch_size,\n",
    "          epochs=n_epochs,verbose=2,\n",
    "          validation_split=.3)\n"
   ]
  },
  {
   "cell_type": "code",
   "execution_count": 23,
   "metadata": {
    "collapsed": false
   },
   "outputs": [
    {
     "name": "stdout",
     "output_type": "stream",
     "text": [
      "1312/1312 [==============================] - 2s     \n"
     ]
    }
   ],
   "source": [
    "#predicting images on the validation data\n",
    "yPred = model.predict_classes(x_valid,batch_size=32,verbose=1)\n",
    "\n",
    "np.savetxt('mnist_output.csv', np.c_[range(1,len(yPred)+1),yPred], delimiter=',', header = 'ImageId,Label', comments = '', fmt='%d')"
   ]
  },
  {
   "cell_type": "code",
   "execution_count": 24,
   "metadata": {
    "collapsed": false
   },
   "outputs": [
    {
     "data": {
      "text/plain": [
       "array([3, 3, 3, ..., 3, 3, 3], dtype=int64)"
      ]
     },
     "execution_count": 24,
     "metadata": {},
     "output_type": "execute_result"
    }
   ],
   "source": [
    "yPred"
   ]
  },
  {
   "cell_type": "code",
   "execution_count": null,
   "metadata": {
    "collapsed": false
   },
   "outputs": [],
   "source": [
    "model.summary()"
   ]
  },
  {
   "cell_type": "code",
   "execution_count": 22,
   "metadata": {
    "collapsed": false
   },
   "outputs": [
    {
     "ename": "NameError",
     "evalue": "name 'val_classes' is not defined",
     "output_type": "error",
     "traceback": [
      "\u001b[0;31m---------------------------------------------------------------------------\u001b[0m",
      "\u001b[0;31mNameError\u001b[0m                                 Traceback (most recent call last)",
      "\u001b[0;32m<ipython-input-22-e807b04d6f64>\u001b[0m in \u001b[0;36m<module>\u001b[0;34m()\u001b[0m\n\u001b[1;32m      1\u001b[0m \u001b[1;32mfrom\u001b[0m \u001b[0msklearn\u001b[0m\u001b[1;33m.\u001b[0m\u001b[0mpreprocessing\u001b[0m \u001b[1;32mimport\u001b[0m \u001b[0mOneHotEncoder\u001b[0m\u001b[1;33m\u001b[0m\u001b[0m\n\u001b[1;32m      2\u001b[0m \u001b[1;32mfrom\u001b[0m \u001b[0msklearn\u001b[0m\u001b[1;33m.\u001b[0m\u001b[0mmetrics\u001b[0m \u001b[1;32mimport\u001b[0m \u001b[0mconfusion_matrix\u001b[0m\u001b[1;33m\u001b[0m\u001b[0m\n\u001b[0;32m----> 3\u001b[0;31m \u001b[0mcm\u001b[0m \u001b[1;33m=\u001b[0m \u001b[0mconfusion_matrix\u001b[0m\u001b[1;33m(\u001b[0m\u001b[0mval_classes\u001b[0m\u001b[1;33m,\u001b[0m \u001b[0mpreds\u001b[0m\u001b[1;33m)\u001b[0m\u001b[1;33m\u001b[0m\u001b[0m\n\u001b[0m",
      "\u001b[0;31mNameError\u001b[0m: name 'val_classes' is not defined"
     ]
    }
   ],
   "source": [
    "from sklearn.preprocessing import OneHotEncoder\n",
    "from sklearn.metrics import confusion_matrix\n",
    "cm = confusion_matrix(val_classes, preds)"
   ]
  },
  {
   "cell_type": "code",
   "execution_count": null,
   "metadata": {
    "collapsed": true
   },
   "outputs": [],
   "source": []
  }
 ],
 "metadata": {
  "anaconda-cloud": {},
  "kernelspec": {
   "display_name": "Python [conda root]",
   "language": "python",
   "name": "conda-root-py"
  },
  "language_info": {
   "codemirror_mode": {
    "name": "ipython",
    "version": 2
   },
   "file_extension": ".py",
   "mimetype": "text/x-python",
   "name": "python",
   "nbconvert_exporter": "python",
   "pygments_lexer": "ipython2",
   "version": "2.7.12"
  }
 },
 "nbformat": 4,
 "nbformat_minor": 1
}
